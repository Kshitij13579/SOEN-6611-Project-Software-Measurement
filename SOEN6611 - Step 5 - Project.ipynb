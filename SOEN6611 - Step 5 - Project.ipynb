{
 "cells": [
  {
   "cell_type": "markdown",
   "id": "25ced60b",
   "metadata": {},
   "source": [
    "# SOEN 6611 - Step 5 - Implementation of Measurement Process"
   ]
  },
  {
   "cell_type": "code",
   "execution_count": 3,
   "id": "6e3ef702",
   "metadata": {},
   "outputs": [],
   "source": [
    "import pandas as pd\n",
    "import numpy as np\n",
    "import matplotlib.pyplot as plt"
   ]
  },
  {
   "cell_type": "code",
   "execution_count": 39,
   "id": "6cdfe8b7",
   "metadata": {},
   "outputs": [],
   "source": [
    "#import data into dataframe\n",
    "\n",
    "df = pd.read_csv('data_manipulated.csv')\n",
    "\n",
    "#split data frame into three parts assuming each part is a separate time frame\n",
    "\n",
    "df_t1 = df.iloc[:4000]\n",
    "df_t2 = df.iloc[4000:7000]\n",
    "df_t3 = df.iloc[7000:]"
   ]
  },
  {
   "cell_type": "code",
   "execution_count": 40,
   "id": "de73abcd",
   "metadata": {},
   "outputs": [
    {
     "data": {
      "text/html": [
       "<div>\n",
       "<style scoped>\n",
       "    .dataframe tbody tr th:only-of-type {\n",
       "        vertical-align: middle;\n",
       "    }\n",
       "\n",
       "    .dataframe tbody tr th {\n",
       "        vertical-align: top;\n",
       "    }\n",
       "\n",
       "    .dataframe thead th {\n",
       "        text-align: right;\n",
       "    }\n",
       "</style>\n",
       "<table border=\"1\" class=\"dataframe\">\n",
       "  <thead>\n",
       "    <tr style=\"text-align: right;\">\n",
       "      <th></th>\n",
       "      <th>ID</th>\n",
       "      <th>Gender</th>\n",
       "      <th>Own_car</th>\n",
       "      <th>Own_property</th>\n",
       "      <th>Work_phone</th>\n",
       "      <th>Phone</th>\n",
       "      <th>Email</th>\n",
       "      <th>Unemployed</th>\n",
       "      <th>Num_children</th>\n",
       "      <th>Num_family</th>\n",
       "      <th>...</th>\n",
       "      <th>Age</th>\n",
       "      <th>Years_employed</th>\n",
       "      <th>Income_type</th>\n",
       "      <th>Education_type</th>\n",
       "      <th>Family_status</th>\n",
       "      <th>Housing_type</th>\n",
       "      <th>Occupation_type</th>\n",
       "      <th>Target</th>\n",
       "      <th>Date</th>\n",
       "      <th>PCI_compliant</th>\n",
       "    </tr>\n",
       "  </thead>\n",
       "  <tbody>\n",
       "    <tr>\n",
       "      <th>0</th>\n",
       "      <td>5008804</td>\n",
       "      <td>1.0</td>\n",
       "      <td>1.0</td>\n",
       "      <td>1.0</td>\n",
       "      <td>1.0</td>\n",
       "      <td>0.0</td>\n",
       "      <td>0.0</td>\n",
       "      <td>0</td>\n",
       "      <td>0.0</td>\n",
       "      <td>2.0</td>\n",
       "      <td>...</td>\n",
       "      <td>32.868574</td>\n",
       "      <td>12.435574</td>\n",
       "      <td>Working</td>\n",
       "      <td>Higher education</td>\n",
       "      <td>Civil marriage</td>\n",
       "      <td>Rented apartment</td>\n",
       "      <td>Other</td>\n",
       "      <td>1.0</td>\n",
       "      <td>12/31/2011</td>\n",
       "      <td>Yes</td>\n",
       "    </tr>\n",
       "    <tr>\n",
       "      <th>1</th>\n",
       "      <td>5008806</td>\n",
       "      <td>1.0</td>\n",
       "      <td>1.0</td>\n",
       "      <td>1.0</td>\n",
       "      <td>0.0</td>\n",
       "      <td>0.0</td>\n",
       "      <td>0.0</td>\n",
       "      <td>0</td>\n",
       "      <td>0.0</td>\n",
       "      <td>2.0</td>\n",
       "      <td>...</td>\n",
       "      <td>58.793815</td>\n",
       "      <td>3.104787</td>\n",
       "      <td>Working</td>\n",
       "      <td>Secondary / secondary special</td>\n",
       "      <td>Married</td>\n",
       "      <td>House / apartment</td>\n",
       "      <td>Security staff</td>\n",
       "      <td>0.0</td>\n",
       "      <td>3/28/2012</td>\n",
       "      <td>Yes</td>\n",
       "    </tr>\n",
       "    <tr>\n",
       "      <th>2</th>\n",
       "      <td>5008808</td>\n",
       "      <td>0.0</td>\n",
       "      <td>0.0</td>\n",
       "      <td>1.0</td>\n",
       "      <td>0.0</td>\n",
       "      <td>1.0</td>\n",
       "      <td>1.0</td>\n",
       "      <td>0</td>\n",
       "      <td>0.0</td>\n",
       "      <td>1.0</td>\n",
       "      <td>...</td>\n",
       "      <td>52.321403</td>\n",
       "      <td>8.353354</td>\n",
       "      <td>Commercial associate</td>\n",
       "      <td>Secondary / secondary special</td>\n",
       "      <td>Single / not married</td>\n",
       "      <td>House / apartment</td>\n",
       "      <td>Sales staff</td>\n",
       "      <td>0.0</td>\n",
       "      <td>10-11-2012</td>\n",
       "      <td>Yes</td>\n",
       "    </tr>\n",
       "    <tr>\n",
       "      <th>3</th>\n",
       "      <td>5008812</td>\n",
       "      <td>0.0</td>\n",
       "      <td>0.0</td>\n",
       "      <td>1.0</td>\n",
       "      <td>0.0</td>\n",
       "      <td>0.0</td>\n",
       "      <td>0.0</td>\n",
       "      <td>1</td>\n",
       "      <td>0.0</td>\n",
       "      <td>1.0</td>\n",
       "      <td>...</td>\n",
       "      <td>61.504343</td>\n",
       "      <td>0.000000</td>\n",
       "      <td>Pensioner</td>\n",
       "      <td>Higher education</td>\n",
       "      <td>Separated</td>\n",
       "      <td>House / apartment</td>\n",
       "      <td>Other</td>\n",
       "      <td>0.0</td>\n",
       "      <td>9/20/2013</td>\n",
       "      <td>Yes</td>\n",
       "    </tr>\n",
       "    <tr>\n",
       "      <th>4</th>\n",
       "      <td>5008815</td>\n",
       "      <td>1.0</td>\n",
       "      <td>1.0</td>\n",
       "      <td>1.0</td>\n",
       "      <td>1.0</td>\n",
       "      <td>1.0</td>\n",
       "      <td>1.0</td>\n",
       "      <td>0</td>\n",
       "      <td>0.0</td>\n",
       "      <td>2.0</td>\n",
       "      <td>...</td>\n",
       "      <td>46.193967</td>\n",
       "      <td>2.105450</td>\n",
       "      <td>Working</td>\n",
       "      <td>Higher education</td>\n",
       "      <td>Married</td>\n",
       "      <td>House / apartment</td>\n",
       "      <td>Accountants</td>\n",
       "      <td>0.0</td>\n",
       "      <td>10/15/2015</td>\n",
       "      <td>Yes</td>\n",
       "    </tr>\n",
       "  </tbody>\n",
       "</table>\n",
       "<p>5 rows × 22 columns</p>\n",
       "</div>"
      ],
      "text/plain": [
       "        ID  Gender  Own_car  Own_property  Work_phone  Phone  Email  \\\n",
       "0  5008804     1.0      1.0           1.0         1.0    0.0    0.0   \n",
       "1  5008806     1.0      1.0           1.0         0.0    0.0    0.0   \n",
       "2  5008808     0.0      0.0           1.0         0.0    1.0    1.0   \n",
       "3  5008812     0.0      0.0           1.0         0.0    0.0    0.0   \n",
       "4  5008815     1.0      1.0           1.0         1.0    1.0    1.0   \n",
       "\n",
       "  Unemployed  Num_children  Num_family  ...        Age  Years_employed  \\\n",
       "0          0           0.0         2.0  ...  32.868574       12.435574   \n",
       "1          0           0.0         2.0  ...  58.793815        3.104787   \n",
       "2          0           0.0         1.0  ...  52.321403        8.353354   \n",
       "3          1           0.0         1.0  ...  61.504343        0.000000   \n",
       "4          0           0.0         2.0  ...  46.193967        2.105450   \n",
       "\n",
       "            Income_type                 Education_type         Family_status  \\\n",
       "0               Working               Higher education        Civil marriage   \n",
       "1               Working  Secondary / secondary special               Married   \n",
       "2  Commercial associate  Secondary / secondary special  Single / not married   \n",
       "3             Pensioner               Higher education             Separated   \n",
       "4               Working               Higher education               Married   \n",
       "\n",
       "        Housing_type Occupation_type Target        Date  PCI_compliant  \n",
       "0   Rented apartment           Other    1.0  12/31/2011            Yes  \n",
       "1  House / apartment  Security staff    0.0   3/28/2012            Yes  \n",
       "2  House / apartment     Sales staff    0.0  10-11-2012            Yes  \n",
       "3  House / apartment           Other    0.0   9/20/2013            Yes  \n",
       "4  House / apartment     Accountants    0.0  10/15/2015            Yes  \n",
       "\n",
       "[5 rows x 22 columns]"
      ]
     },
     "execution_count": 40,
     "metadata": {},
     "output_type": "execute_result"
    }
   ],
   "source": [
    "df.head(5)"
   ]
  },
  {
   "cell_type": "code",
   "execution_count": 41,
   "id": "b50016fe",
   "metadata": {},
   "outputs": [
    {
     "name": "stdout",
     "output_type": "stream",
     "text": [
      "4000\n",
      "3000\n",
      "2828\n"
     ]
    }
   ],
   "source": [
    "print(df_t1.shape[0])\n",
    "print(df_t2.shape[0])\n",
    "print(df_t3.shape[0])"
   ]
  },
  {
   "cell_type": "markdown",
   "id": "3fa9020b",
   "metadata": {},
   "source": [
    "## Big Data Quality Indicators"
   ]
  },
  {
   "cell_type": "markdown",
   "id": "c7617d53",
   "metadata": {},
   "source": [
    "### Global Variables\n",
    "\n",
    "num_request - number of requests to database. \n",
    "<br>\n",
    "num_successful_request - number of successful requests to database. <br>\n",
    "**It is assumed that dataframe is equivalent to database and each call to dataframe is considered as request. If the call does not return any error then num_successful_requests is incremented.**"
   ]
  },
  {
   "cell_type": "code",
   "execution_count": 35,
   "id": "16e4a683",
   "metadata": {},
   "outputs": [],
   "source": [
    "num_request = 0\n",
    "num_successful_request = 0"
   ]
  },
  {
   "cell_type": "markdown",
   "id": "e49a0651",
   "metadata": {},
   "source": [
    "### Base Measure Function\n",
    "\n",
    "***\n",
    "\n",
    "Method : recCount(df_list) : method to calculate total number of records in multiple datasets <br>\n",
    "Param : df_list : list of multiple dataframes <br>\n",
    "Return : Integer : returns total number of records in multiple datasets <br>"
   ]
  },
  {
   "cell_type": "code",
   "execution_count": 36,
   "id": "8352d068",
   "metadata": {},
   "outputs": [],
   "source": [
    "def recCount(df_list):\n",
    "    global num_request\n",
    "    global num_successful_request\n",
    "    num_records = 0\n",
    "    for i in df_list:\n",
    "        num_request += 1\n",
    "        num_records += i.shape[0]\n",
    "        num_successful_request += 1\n",
    "    \n",
    "    return num_records"
   ]
  },
  {
   "cell_type": "code",
   "execution_count": 37,
   "id": "0ba9494f",
   "metadata": {},
   "outputs": [
    {
     "data": {
      "text/plain": [
       "9828"
      ]
     },
     "execution_count": 37,
     "metadata": {},
     "output_type": "execute_result"
    }
   ],
   "source": [
    "recCount([df_t1,df_t2,df_t3])"
   ]
  },
  {
   "cell_type": "markdown",
   "id": "5a50298b",
   "metadata": {},
   "source": [
    "### Veracity"
   ]
  },
  {
   "cell_type": "code",
   "execution_count": 38,
   "id": "23ee7e02",
   "metadata": {},
   "outputs": [],
   "source": [
    "#Accuracy\n",
    "def getAccuracy(df_list):\n",
    "    num_records = recCount(df_list)\n",
    "    global num_request\n",
    "    global num_successful_request\n",
    "    sum=0\n",
    "    for i in df_list:\n",
    "        num_request += 1\n",
    "        print(i.duplicated().sum())\n",
    "        # In case of duplicates elements\n",
    "        if i.duplicated().sum() != 0:\n",
    "            sum += (i.duplicated().sum() * np.log2(i.duplicated().sum()))\n",
    "        num_successful_request += 1\n",
    "    \n",
    "    \n",
    "    Hacc = np.log2(num_records) - (1/num_records) * sum\n",
    "    Hmax = np.log2(num_records)\n",
    "    \n",
    "    return (Hacc / Hmax) \n",
    "\n",
    "#Completeness\n",
    "def getCompleteness(df_list):\n",
    "    num_records = recCount(df_list)\n",
    "    global num_request\n",
    "    global num_successful_request\n",
    "    rec_null=0\n",
    "    for i in df_list:\n",
    "        num_request += 1\n",
    "        rec_null += i.isnull().any(axis=1).sum()\n",
    "        num_successful_request += 1\n",
    "    \n",
    "    return ((num_records - rec_null) / num_records)\n",
    "    \n",
    "\n",
    "#Currentness\n",
    "def getCurrentness(df_list):\n",
    "    num_records = recCount(df_list)\n",
    "    \n",
    "    combine_df = pd.concat([df_t1,df_t2,df_t3])\n",
    "    combine_df = combine_df.dropna(subset=['Date'])\n",
    "    combine_df['Date'] = pd.to_datetime(combine_df['Date'], format='%m/%d/%Y')\n",
    "    combine_df = combine_df.sort_values(by='Date')\n",
    "    n = combine_df.shape[0]\n",
    "    lower = np.ceil((n+1)/4).astype('int64')-1\n",
    "    higher = np.ceil((3/4) *(n+1)).astype('int64')-1\n",
    "    date_lower = combine_df.iloc[lower]['Date']\n",
    "    date_higher = combine_df.iloc[higher]['Date']\n",
    "    count = combine_df.loc[combine_df['Date'].between(date_lower,date_higher,inclusive='both')].shape[0]\n",
    "    \n",
    "    return count / num_records\n",
    "\n",
    "#Availability\n",
    "def getAvailability():\n",
    "    return num_successful_request / num_request"
   ]
  },
  {
   "cell_type": "code",
   "execution_count": 42,
   "id": "f497604b",
   "metadata": {},
   "outputs": [
    {
     "data": {
      "text/plain": [
       "9828"
      ]
     },
     "execution_count": 42,
     "metadata": {},
     "output_type": "execute_result"
    }
   ],
   "source": [
    "recCount([df_t1,df_t2,df_t3])"
   ]
  },
  {
   "cell_type": "code",
   "execution_count": 43,
   "id": "6ef88762",
   "metadata": {},
   "outputs": [
    {
     "data": {
      "text/plain": [
       "34"
      ]
     },
     "execution_count": 43,
     "metadata": {},
     "output_type": "execute_result"
    }
   ],
   "source": [
    "df_t2.isnull().any(axis=1).sum()"
   ]
  },
  {
   "cell_type": "code",
   "execution_count": 44,
   "id": "3fe36984",
   "metadata": {},
   "outputs": [
    {
     "name": "stdout",
     "output_type": "stream",
     "text": [
      "11\n",
      "0\n",
      "0\n"
     ]
    },
    {
     "data": {
      "text/plain": [
       "0.9997080550774292"
      ]
     },
     "execution_count": 44,
     "metadata": {},
     "output_type": "execute_result"
    }
   ],
   "source": [
    "getAccuracy([df_t1,df_t2,df_t3])"
   ]
  },
  {
   "cell_type": "code",
   "execution_count": 45,
   "id": "926f901d",
   "metadata": {},
   "outputs": [
    {
     "data": {
      "text/plain": [
       "0.9930809930809931"
      ]
     },
     "execution_count": 45,
     "metadata": {},
     "output_type": "execute_result"
    }
   ],
   "source": [
    "getCompleteness([df_t1,df_t2,df_t3])"
   ]
  },
  {
   "cell_type": "code",
   "execution_count": 15,
   "id": "91ec895f",
   "metadata": {},
   "outputs": [
    {
     "data": {
      "text/plain": [
       "1.0"
      ]
     },
     "execution_count": 15,
     "metadata": {},
     "output_type": "execute_result"
    }
   ],
   "source": [
    "getAvailability()"
   ]
  },
  {
   "cell_type": "code",
   "execution_count": 16,
   "id": "d675ad87",
   "metadata": {},
   "outputs": [
    {
     "data": {
      "text/plain": [
       "0.4994912494912495"
      ]
     },
     "execution_count": 16,
     "metadata": {},
     "output_type": "execute_result"
    }
   ],
   "source": [
    "getCurrentness([df_t1,df_t2,df_t3])"
   ]
  },
  {
   "cell_type": "code",
   "execution_count": 17,
   "id": "67cd3496",
   "metadata": {},
   "outputs": [
    {
     "name": "stdout",
     "output_type": "stream",
     "text": [
      "2013-02-19 00:00:00\n",
      "2019-05-28 00:00:00\n",
      "4909\n"
     ]
    }
   ],
   "source": [
    "combine_df = pd.concat([df_t1,df_t2,df_t3])\n",
    "combine_df = combine_df.dropna(subset=['Date'])\n",
    "combine_df['Date'] = pd.to_datetime(combine_df['Date'], format='%m/%d/%Y')\n",
    "combine_df = combine_df.sort_values(by='Date')\n",
    "n = combine_df.shape[0]\n",
    "lower = np.ceil((n+1)/4).astype('int64')-1\n",
    "higher = np.ceil((3/4) *(n+1)).astype('int64')-1\n",
    "date_lower = combine_df.iloc[lower]['Date']\n",
    "date_higher = combine_df.iloc[higher]['Date']\n",
    "print(date_lower)\n",
    "print(date_higher)\n",
    "count = combine_df.loc[combine_df['Date'].between(date_lower,date_higher,inclusive='both')].shape[0]\n",
    "print(count)"
   ]
  },
  {
   "cell_type": "code",
   "execution_count": 46,
   "id": "5634821e",
   "metadata": {},
   "outputs": [
    {
     "data": {
      "text/html": [
       "<div>\n",
       "<style scoped>\n",
       "    .dataframe tbody tr th:only-of-type {\n",
       "        vertical-align: middle;\n",
       "    }\n",
       "\n",
       "    .dataframe tbody tr th {\n",
       "        vertical-align: top;\n",
       "    }\n",
       "\n",
       "    .dataframe thead th {\n",
       "        text-align: right;\n",
       "    }\n",
       "</style>\n",
       "<table border=\"1\" class=\"dataframe\">\n",
       "  <thead>\n",
       "    <tr style=\"text-align: right;\">\n",
       "      <th></th>\n",
       "      <th>ID</th>\n",
       "      <th>Gender</th>\n",
       "      <th>Own_car</th>\n",
       "      <th>Own_property</th>\n",
       "      <th>Work_phone</th>\n",
       "      <th>Phone</th>\n",
       "      <th>Email</th>\n",
       "      <th>Unemployed</th>\n",
       "      <th>Num_children</th>\n",
       "      <th>Num_family</th>\n",
       "      <th>...</th>\n",
       "      <th>Total_income</th>\n",
       "      <th>Age</th>\n",
       "      <th>Years_employed</th>\n",
       "      <th>Income_type</th>\n",
       "      <th>Education_type</th>\n",
       "      <th>Family_status</th>\n",
       "      <th>Housing_type</th>\n",
       "      <th>Occupation_type</th>\n",
       "      <th>Target</th>\n",
       "      <th>Date</th>\n",
       "    </tr>\n",
       "  </thead>\n",
       "  <tbody>\n",
       "    <tr>\n",
       "      <th>9299</th>\n",
       "      <td>5145770</td>\n",
       "      <td>0.0</td>\n",
       "      <td>1.0</td>\n",
       "      <td>1.0</td>\n",
       "      <td>0.0</td>\n",
       "      <td>0.0</td>\n",
       "      <td>0.0</td>\n",
       "      <td>0</td>\n",
       "      <td>4.0</td>\n",
       "      <td>6.0</td>\n",
       "      <td>...</td>\n",
       "      <td>112500.0</td>\n",
       "      <td>37.429927</td>\n",
       "      <td>5.404628</td>\n",
       "      <td>Working</td>\n",
       "      <td>Higher education</td>\n",
       "      <td>Married</td>\n",
       "      <td>House / apartment</td>\n",
       "      <td>Core staff</td>\n",
       "      <td>0.0</td>\n",
       "      <td>2010-01-01</td>\n",
       "    </tr>\n",
       "    <tr>\n",
       "      <th>2800</th>\n",
       "      <td>5041802</td>\n",
       "      <td>0.0</td>\n",
       "      <td>0.0</td>\n",
       "      <td>0.0</td>\n",
       "      <td>0.0</td>\n",
       "      <td>1.0</td>\n",
       "      <td>0.0</td>\n",
       "      <td>0</td>\n",
       "      <td>0.0</td>\n",
       "      <td>2.0</td>\n",
       "      <td>...</td>\n",
       "      <td>90000.0</td>\n",
       "      <td>44.825014</td>\n",
       "      <td>10.677837</td>\n",
       "      <td>Working</td>\n",
       "      <td>Secondary / secondary special</td>\n",
       "      <td>Married</td>\n",
       "      <td>House / apartment</td>\n",
       "      <td>Laborers</td>\n",
       "      <td>0.0</td>\n",
       "      <td>2010-01-02</td>\n",
       "    </tr>\n",
       "    <tr>\n",
       "      <th>2071</th>\n",
       "      <td>5033917</td>\n",
       "      <td>1.0</td>\n",
       "      <td>0.0</td>\n",
       "      <td>1.0</td>\n",
       "      <td>0.0</td>\n",
       "      <td>0.0</td>\n",
       "      <td>0.0</td>\n",
       "      <td>0</td>\n",
       "      <td>0.0</td>\n",
       "      <td>2.0</td>\n",
       "      <td>...</td>\n",
       "      <td>180000.0</td>\n",
       "      <td>35.633860</td>\n",
       "      <td>9.985147</td>\n",
       "      <td>Working</td>\n",
       "      <td>Secondary / secondary special</td>\n",
       "      <td>Married</td>\n",
       "      <td>House / apartment</td>\n",
       "      <td>Other</td>\n",
       "      <td>0.0</td>\n",
       "      <td>2010-01-02</td>\n",
       "    </tr>\n",
       "    <tr>\n",
       "      <th>2977</th>\n",
       "      <td>5045434</td>\n",
       "      <td>1.0</td>\n",
       "      <td>0.0</td>\n",
       "      <td>0.0</td>\n",
       "      <td>0.0</td>\n",
       "      <td>0.0</td>\n",
       "      <td>0.0</td>\n",
       "      <td>0</td>\n",
       "      <td>1.0</td>\n",
       "      <td>3.0</td>\n",
       "      <td>...</td>\n",
       "      <td>135000.0</td>\n",
       "      <td>39.792740</td>\n",
       "      <td>18.212557</td>\n",
       "      <td>Working</td>\n",
       "      <td>Secondary / secondary special</td>\n",
       "      <td>Married</td>\n",
       "      <td>Municipal apartment</td>\n",
       "      <td>Laborers</td>\n",
       "      <td>1.0</td>\n",
       "      <td>2010-01-02</td>\n",
       "    </tr>\n",
       "    <tr>\n",
       "      <th>8901</th>\n",
       "      <td>5137353</td>\n",
       "      <td>1.0</td>\n",
       "      <td>1.0</td>\n",
       "      <td>0.0</td>\n",
       "      <td>1.0</td>\n",
       "      <td>1.0</td>\n",
       "      <td>0.0</td>\n",
       "      <td>0</td>\n",
       "      <td>2.0</td>\n",
       "      <td>4.0</td>\n",
       "      <td>...</td>\n",
       "      <td>72000.0</td>\n",
       "      <td>33.758393</td>\n",
       "      <td>5.960424</td>\n",
       "      <td>Working</td>\n",
       "      <td>Secondary / secondary special</td>\n",
       "      <td>Married</td>\n",
       "      <td>House / apartment</td>\n",
       "      <td>Drivers</td>\n",
       "      <td>0.0</td>\n",
       "      <td>2010-01-03</td>\n",
       "    </tr>\n",
       "  </tbody>\n",
       "</table>\n",
       "<p>5 rows × 21 columns</p>\n",
       "</div>"
      ],
      "text/plain": [
       "           ID  Gender  Own_car  Own_property  Work_phone  Phone  Email  \\\n",
       "9299  5145770     0.0      1.0           1.0         0.0    0.0    0.0   \n",
       "2800  5041802     0.0      0.0           0.0         0.0    1.0    0.0   \n",
       "2071  5033917     1.0      0.0           1.0         0.0    0.0    0.0   \n",
       "2977  5045434     1.0      0.0           0.0         0.0    0.0    0.0   \n",
       "8901  5137353     1.0      1.0           0.0         1.0    1.0    0.0   \n",
       "\n",
       "     Unemployed  Num_children  Num_family  ...  Total_income        Age  \\\n",
       "9299          0           4.0         6.0  ...      112500.0  37.429927   \n",
       "2800          0           0.0         2.0  ...       90000.0  44.825014   \n",
       "2071          0           0.0         2.0  ...      180000.0  35.633860   \n",
       "2977          0           1.0         3.0  ...      135000.0  39.792740   \n",
       "8901          0           2.0         4.0  ...       72000.0  33.758393   \n",
       "\n",
       "      Years_employed  Income_type                 Education_type  \\\n",
       "9299        5.404628      Working               Higher education   \n",
       "2800       10.677837      Working  Secondary / secondary special   \n",
       "2071        9.985147      Working  Secondary / secondary special   \n",
       "2977       18.212557      Working  Secondary / secondary special   \n",
       "8901        5.960424      Working  Secondary / secondary special   \n",
       "\n",
       "     Family_status         Housing_type Occupation_type Target       Date  \n",
       "9299       Married    House / apartment      Core staff    0.0 2010-01-01  \n",
       "2800       Married    House / apartment        Laborers    0.0 2010-01-02  \n",
       "2071       Married    House / apartment           Other    0.0 2010-01-02  \n",
       "2977       Married  Municipal apartment        Laborers    1.0 2010-01-02  \n",
       "8901       Married    House / apartment         Drivers    0.0 2010-01-03  \n",
       "\n",
       "[5 rows x 21 columns]"
      ]
     },
     "execution_count": 46,
     "metadata": {},
     "output_type": "execute_result"
    }
   ],
   "source": [
    "combine_df.head(5)"
   ]
  },
  {
   "cell_type": "markdown",
   "id": "cf0f4e90",
   "metadata": {},
   "source": [
    "### Vincularity"
   ]
  },
  {
   "cell_type": "code",
   "execution_count": null,
   "id": "fd0c6a2a",
   "metadata": {},
   "outputs": [],
   "source": []
  },
  {
   "cell_type": "markdown",
   "id": "d05ca102",
   "metadata": {},
   "source": [
    "### Validity"
   ]
  },
  {
   "cell_type": "code",
   "execution_count": 56,
   "id": "1e1e1abd",
   "metadata": {},
   "outputs": [],
   "source": [
    "# Compliance\n",
    "def getCompliance(df_list):\n",
    "    # total number of datasets\n",
    "    nds_df_list = len(df_list)\n",
    "    sum_mds_comp = 0\n",
    "    \n",
    "    for i in df_list:\n",
    "        num_comp_rec = i['PCI_compliant'].value_counts()['Yes']\n",
    "        total_rec = i.shape[0]\n",
    "        i_comp = num_comp_rec/total_rec\n",
    "        sum_mds_comp += i_comp\n",
    "    \n",
    "    mds_compliance = sum_mds_comp/nds_df_list\n",
    "    \n",
    "    return mds_compliance\n",
    "\n",
    "# Credability\n",
    "def getCredability(df_list):\n",
    "    # total number of datasets\n",
    "    nds_df_list = len(df_list)\n",
    "    num_cred_dataset = 0\n",
    "    \n",
    "    for i in df_list:\n",
    "        num_cred_dataset += 1\n",
    "    \n",
    "    mds_credability = num_cred_dataset/num_cred_dataset\n",
    "    \n",
    "    return mds_credability"
   ]
  },
  {
   "cell_type": "code",
   "execution_count": 52,
   "id": "2b170551",
   "metadata": {},
   "outputs": [
    {
     "data": {
      "text/plain": [
       "0.92125"
      ]
     },
     "execution_count": 52,
     "metadata": {},
     "output_type": "execute_result"
    }
   ],
   "source": [
    "# Compliance for Time frame 1\n",
    "getCompliance([df_t1])"
   ]
  },
  {
   "cell_type": "code",
   "execution_count": 53,
   "id": "2c2db662",
   "metadata": {},
   "outputs": [
    {
     "data": {
      "text/plain": [
       "0.9163333333333333"
      ]
     },
     "execution_count": 53,
     "metadata": {},
     "output_type": "execute_result"
    }
   ],
   "source": [
    "# Compliance for Time frame 1\n",
    "getCompliance([df_t2])"
   ]
  },
  {
   "cell_type": "code",
   "execution_count": 54,
   "id": "b26d9e6c",
   "metadata": {},
   "outputs": [
    {
     "data": {
      "text/plain": [
       "0.923974540311174"
      ]
     },
     "execution_count": 54,
     "metadata": {},
     "output_type": "execute_result"
    }
   ],
   "source": [
    "# Compliance for Time frame 1\n",
    "getCompliance([df_t3])"
   ]
  },
  {
   "cell_type": "code",
   "execution_count": 57,
   "id": "64af0ea1",
   "metadata": {},
   "outputs": [
    {
     "data": {
      "text/plain": [
       "1.0"
      ]
     },
     "execution_count": 57,
     "metadata": {},
     "output_type": "execute_result"
    }
   ],
   "source": [
    "# Compliance for Time frame 1\n",
    "getCredability([df_t1])"
   ]
  },
  {
   "cell_type": "code",
   "execution_count": 58,
   "id": "a32e7b60",
   "metadata": {},
   "outputs": [
    {
     "data": {
      "text/plain": [
       "1.0"
      ]
     },
     "execution_count": 58,
     "metadata": {},
     "output_type": "execute_result"
    }
   ],
   "source": [
    "# Compliance for Time frame 1\n",
    "getCredability([df_t2])"
   ]
  },
  {
   "cell_type": "code",
   "execution_count": 59,
   "id": "04565816",
   "metadata": {},
   "outputs": [
    {
     "data": {
      "text/plain": [
       "1.0"
      ]
     },
     "execution_count": 59,
     "metadata": {},
     "output_type": "execute_result"
    }
   ],
   "source": [
    "# Compliance for Time frame 1\n",
    "getCredability([df_t3])"
   ]
  }
 ],
 "metadata": {
  "kernelspec": {
   "display_name": "Python 3 (ipykernel)",
   "language": "python",
   "name": "python3"
  },
  "language_info": {
   "codemirror_mode": {
    "name": "ipython",
    "version": 3
   },
   "file_extension": ".py",
   "mimetype": "text/x-python",
   "name": "python",
   "nbconvert_exporter": "python",
   "pygments_lexer": "ipython3",
   "version": "3.8.12"
  }
 },
 "nbformat": 4,
 "nbformat_minor": 5
}
