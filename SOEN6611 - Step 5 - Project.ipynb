{
 "cells": [
  {
   "cell_type": "markdown",
   "id": "25ced60b",
   "metadata": {},
   "source": [
    "# SOEN 6611 - Step 5 - Implementation of Measurement Process"
   ]
  },
  {
   "cell_type": "code",
   "execution_count": 1,
   "id": "6e3ef702",
   "metadata": {},
   "outputs": [],
   "source": [
    "import pandas as pd\n",
    "import numpy as np\n",
    "import matplotlib.pyplot as plt"
   ]
  },
  {
   "cell_type": "code",
   "execution_count": 29,
   "id": "6cdfe8b7",
   "metadata": {},
   "outputs": [],
   "source": [
    "#import data into dataframe\n",
    "\n",
    "df = pd.read_csv('data - Copy.csv')\n",
    "\n",
    "#split data frame into three parts assuming each part is a separate time frame\n",
    "\n",
    "df_t1 = df.iloc[:4000]\n",
    "df_t2 = df.iloc[4000:7000]\n",
    "df_t3 = df.iloc[7000:]"
   ]
  },
  {
   "cell_type": "markdown",
   "id": "3fa9020b",
   "metadata": {},
   "source": [
    "## Big Data Quality Indicators"
   ]
  },
  {
   "cell_type": "markdown",
   "id": "c7617d53",
   "metadata": {},
   "source": [
    "### Global Variables\n",
    "\n",
    "num_request - number of requests to database. \n",
    "<br>\n",
    "num_successful_request - number of successful requests to database. <br>\n",
    "**It is assumed that dataframe is equivalent to database and each call to dataframe is considered as request. If the call does not return any error then num_successful_requests is incremented.**"
   ]
  },
  {
   "cell_type": "code",
   "execution_count": 31,
   "id": "16e4a683",
   "metadata": {},
   "outputs": [],
   "source": [
    "num_request = 0\n",
    "num_successful_request = 0"
   ]
  },
  {
   "cell_type": "markdown",
   "id": "e49a0651",
   "metadata": {},
   "source": [
    "### Base Measure Function\n",
    "\n",
    "***\n",
    "\n",
    "Method : recCount(df_list) : method to calculate total number of records in multiple datasets <br>\n",
    "Param : df_list : list of multiple dataframes <br>\n",
    "Return : Integer : returns total number of records in multiple datasets <br>"
   ]
  },
  {
   "cell_type": "code",
   "execution_count": 33,
   "id": "8352d068",
   "metadata": {},
   "outputs": [],
   "source": [
    "def recCount(df_list):\n",
    "    num_records = 0\n",
    "    for i in df_list:\n",
    "        num_requests += 1\n",
    "        num_records += i.shape[0]\n",
    "        num_successful_requests += 1\n",
    "    \n",
    "    return num_records"
   ]
  },
  {
   "cell_type": "markdown",
   "id": "5a50298b",
   "metadata": {},
   "source": [
    "### Veracity"
   ]
  },
  {
   "cell_type": "code",
   "execution_count": null,
   "id": "23ee7e02",
   "metadata": {},
   "outputs": [],
   "source": [
    "#Accuracy\n",
    "def getAccuracy(df_list):\n",
    "    num_records = recCount(df_list)\n",
    "    \n",
    "    for i in df_list:\n",
    "        num_requests += 1\n",
    "        sum += (i.duplicated().sum() * np.log2(i.duplicated().sum()))\n",
    "        num_successful_requests += 1\n",
    "    \n",
    "    \n",
    "    Hacc = np.log2(num_records) - (1/num_records) * sum\n",
    "    Hmax = np.log2(num_records)\n",
    "    \n",
    "    return (Hacc / Hmax) \n",
    "\n",
    "#Completeness\n",
    "def getCompleteness(df_list):\n",
    "    num_records = recCount(df_list)\n",
    "    \n",
    "    for i in df_list:\n",
    "        num_requests += 1\n",
    "        rec_no_null += i.isnull().any(axis=1).sum()\n",
    "        num_successful_requests += \n",
    "    \n",
    "    return (rec_no_null / num_records)\n",
    "    \n",
    "\n",
    "#Currentness\n",
    "\n",
    "#Availability\n",
    "def getAvailability():\n",
    "    return num_successful_requests / num_requests"
   ]
  },
  {
   "cell_type": "markdown",
   "id": "cf0f4e90",
   "metadata": {},
   "source": [
    "### Vincularity"
   ]
  },
  {
   "cell_type": "code",
   "execution_count": null,
   "id": "fd0c6a2a",
   "metadata": {},
   "outputs": [],
   "source": []
  },
  {
   "cell_type": "markdown",
   "id": "d05ca102",
   "metadata": {},
   "source": [
    "### Validity"
   ]
  },
  {
   "cell_type": "code",
   "execution_count": null,
   "id": "1e1e1abd",
   "metadata": {},
   "outputs": [],
   "source": []
  }
 ],
 "metadata": {
  "kernelspec": {
   "display_name": "Python 3 (ipykernel)",
   "language": "python",
   "name": "python3"
  },
  "language_info": {
   "codemirror_mode": {
    "name": "ipython",
    "version": 3
   },
   "file_extension": ".py",
   "mimetype": "text/x-python",
   "name": "python",
   "nbconvert_exporter": "python",
   "pygments_lexer": "ipython3",
   "version": "3.9.7"
  }
 },
 "nbformat": 4,
 "nbformat_minor": 5
}
